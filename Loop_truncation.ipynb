{
 "cells": [
  {
   "cell_type": "code",
   "execution_count": null,
   "id": "c4ce080d-46c8-4e02-a720-c71d1b3de301",
   "metadata": {},
   "outputs": [],
   "source": [
    "import random\n",
    "\n",
    "# Variables\n",
    "end_count = 10"
   ]
  },
  {
   "cell_type": "code",
   "execution_count": null,
   "id": "0c346fe9-782e-4abb-bcdd-500e780d1ef5",
   "metadata": {},
   "outputs": [],
   "source": [
    "def task(count):\n",
    "    result = count + random.randrange(10)\n",
    "    print(\"Task #\", count)\n",
    "    return result"
   ]
  },
  {
   "cell_type": "code",
   "execution_count": null,
   "id": "8a827224-78ad-45eb-b36e-cf029f3f1cbf",
   "metadata": {},
   "outputs": [],
   "source": [
    "def loop_standard():\n",
    "    for count in range(1, end_count+1):\n",
    "        task(count)"
   ]
  },
  {
   "cell_type": "code",
   "execution_count": null,
   "id": "5c236c85-ae96-4650-8128-4fcd8383138b",
   "metadata": {},
   "outputs": [],
   "source": [
    "def loop_truncation(threshold):\n",
    "    condition = 0\n",
    "    for count in range(1, end_count+1):\n",
    "        if condition < threshold:\n",
    "            condition = task(count)\n",
    "            print(\"Condition:\", condition)\n",
    "        else:\n",
    "            break"
   ]
  },
  {
   "cell_type": "code",
   "execution_count": null,
   "id": "7ce78d90-2ae5-4035-8d52-f77e65fa888e",
   "metadata": {},
   "outputs": [],
   "source": [
    "print(\"Standard Loop\")\n",
    "loop_standard()\n",
    "print(\"-------------\")\n",
    "print(\"Loop Truncation\")\n",
    "loop_truncation(10)"
   ]
  },
  {
   "cell_type": "code",
   "execution_count": null,
   "id": "f49a3052-b70b-4f68-bef8-83c82a2d942b",
   "metadata": {},
   "outputs": [],
   "source": []
  }
 ],
 "metadata": {
  "kernelspec": {
   "display_name": "Python 3 (ipykernel)",
   "language": "python",
   "name": "python3"
  },
  "language_info": {
   "codemirror_mode": {
    "name": "ipython",
    "version": 3
   },
   "file_extension": ".py",
   "mimetype": "text/x-python",
   "name": "python",
   "nbconvert_exporter": "python",
   "pygments_lexer": "ipython3",
   "version": "3.9.13"
  }
 },
 "nbformat": 4,
 "nbformat_minor": 5
}
