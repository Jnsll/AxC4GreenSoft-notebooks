{
 "cells": [
  {
   "cell_type": "code",
   "execution_count": 1,
   "id": "e0c45116-0b12-49f8-b251-1b93349a8182",
   "metadata": {},
   "outputs": [],
   "source": [
    "import random\n",
    "\n",
    "# Variables\n",
    "end_count = 10\n",
    "\n",
    "def task(count):\n",
    "    result = count + random.randrange(10)\n",
    "    print(\"Task #\", count)\n",
    "    return result\n",
    "\n",
    "\n",
    "def loop_standard():\n",
    "    for count in range(1, end_count+1):\n",
    "        task(count)"
   ]
  },
  {
   "cell_type": "code",
   "execution_count": null,
   "id": "a7d1be40-5851-44c4-bb76-a94c57f71dac",
   "metadata": {},
   "outputs": [],
   "source": [
    "def loop_perforation():\n",
    "    # to complete"
   ]
  }
 ],
 "metadata": {
  "kernelspec": {
   "display_name": "Python 3 (ipykernel)",
   "language": "python",
   "name": "python3"
  },
  "language_info": {
   "codemirror_mode": {
    "name": "ipython",
    "version": 3
   },
   "file_extension": ".py",
   "mimetype": "text/x-python",
   "name": "python",
   "nbconvert_exporter": "python",
   "pygments_lexer": "ipython3",
   "version": "3.9.13"
  }
 },
 "nbformat": 4,
 "nbformat_minor": 5
}
