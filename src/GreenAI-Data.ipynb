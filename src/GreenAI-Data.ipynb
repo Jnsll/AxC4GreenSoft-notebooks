{
 "cells": [
  {
   "cell_type": "code",
   "execution_count": null,
   "id": "93c4e18c-7b34-4690-a2de-a20ea55f752b",
   "metadata": {},
   "outputs": [],
   "source": [
    "pip install codecarbon"
   ]
  },
  {
   "cell_type": "code",
   "execution_count": 7,
   "id": "dcb0871f-0809-484f-a790-672bfee99ae1",
   "metadata": {},
   "outputs": [],
   "source": [
    "import sys\n",
    "sys.path.append('..')\n",
    "\n",
    "from src.text_classification import generate_model, model_validation\n",
    "from src.modify_dataset import modify_dataset_and_raw_data_with_percentage_size_to_keep\n",
    "from src.modify_dataset import modify_dataset_select_features\n",
    "from src.energy_experiment import run_experiment_exp\n",
    "\n",
    "from sklearn.svm import SVC\n",
    "from sklearn.tree import DecisionTreeClassifier\n",
    "from sklearn.naive_bayes import ComplementNB\n",
    "from sklearn.neighbors import KNeighborsClassifier\n",
    "from sklearn.ensemble import RandomForestClassifier, AdaBoostClassifier, BaggingClassifier\n",
    "from sklearn.linear_model import LogisticRegression\n",
    "\n",
    "from joblib import load\n",
    "from src.text_preprocessing import _load_data\n",
    "from codecarbon import EmissionsTracker\n",
    "import csv\n",
    "import time\n",
    "import random\n",
    "import os"
   ]
  },
  {
   "cell_type": "code",
   "execution_count": 8,
   "id": "52427ce8-cbd3-4119-95ee-b688fccdea6b",
   "metadata": {},
   "outputs": [],
   "source": [
    "raw_data = _load_data()\n",
    "preprocessed_data = load(os.path.abspath('') + '/src/output/preprocessed_data.joblib')"
   ]
  },
  {
   "cell_type": "code",
   "execution_count": 9,
   "id": "c5be70c8-281e-42b7-8b94-96b8ab9552bf",
   "metadata": {},
   "outputs": [],
   "source": [
    "NUMBER_OF_EXPERIMENTAL_RUNS = 1\n",
    "SLEEP_TIME = 1\n",
    "CLASSIFIERS = {\n",
    "    'Random Forest': RandomForestClassifier(class_weight=\"balanced\"),\n",
    "}\n",
    "\n",
    "dataset_size_percentage = 80\n",
    "featureset_percentage = 50"
   ]
  },
  {
   "cell_type": "code",
   "execution_count": 10,
   "id": "8858bcb4-925e-4a1a-bd69-259ab6299957",
   "metadata": {},
   "outputs": [
    {
     "name": "stdout",
     "output_type": "stream",
     "text": [
      "test\n",
      "Starting Experiment: 0,\n",
      " classifier RandomForestClassifier(class_weight='balanced'),\n",
      " dataset_percentage 80,\n",
      " featureset_percentage 50\n"
     ]
    },
    {
     "name": "stderr",
     "output_type": "stream",
     "text": [
      "[codecarbon INFO @ 10:19:44] [setup] RAM Tracking...\n",
      "[codecarbon INFO @ 10:19:44] [setup] GPU Tracking...\n",
      "[codecarbon INFO @ 10:19:44] No GPU found.\n",
      "[codecarbon INFO @ 10:19:44] [setup] CPU Tracking...\n",
      "[codecarbon WARNING @ 10:19:44] No CPU tracking mode found. Falling back on CPU constant mode.\n",
      "[codecarbon INFO @ 10:19:46] CPU Model on constant consumption mode: Apple M1 Pro\n",
      "[codecarbon INFO @ 10:19:46] >>> Tracker's metadata:\n",
      "[codecarbon INFO @ 10:19:46]   Platform system: macOS-10.16-x86_64-i386-64bit\n",
      "[codecarbon INFO @ 10:19:46]   Python version: 3.9.13\n",
      "[codecarbon INFO @ 10:19:46]   CodeCarbon version: 2.3.1\n",
      "[codecarbon INFO @ 10:19:46]   Available RAM : 16.000 GB\n",
      "[codecarbon INFO @ 10:19:46]   CPU count: 10\n",
      "[codecarbon INFO @ 10:19:46]   CPU model: Apple M1 Pro\n",
      "[codecarbon INFO @ 10:19:46]   GPU count: None\n",
      "[codecarbon INFO @ 10:19:46]   GPU model: None\n",
      "[codecarbon INFO @ 10:19:49] Energy consumed for RAM : 0.000000 kWh. RAM Power : 6.0 W\n",
      "[codecarbon INFO @ 10:19:49] Energy consumed for all CPUs : 0.000000 kWh. Total CPU Power : 5.0 W\n",
      "[codecarbon INFO @ 10:19:49] 0.000000 kWh of electricity used since the beginning.\n",
      "[codecarbon INFO @ 10:19:49] [setup] RAM Tracking...\n",
      "[codecarbon INFO @ 10:19:49] [setup] GPU Tracking...\n",
      "[codecarbon INFO @ 10:19:49] No GPU found.\n",
      "[codecarbon INFO @ 10:19:49] [setup] CPU Tracking...\n",
      "[codecarbon WARNING @ 10:19:49] No CPU tracking mode found. Falling back on CPU constant mode.\n",
      "[codecarbon INFO @ 10:19:50] CPU Model on constant consumption mode: Apple M1 Pro\n",
      "[codecarbon INFO @ 10:19:50] >>> Tracker's metadata:\n",
      "[codecarbon INFO @ 10:19:50]   Platform system: macOS-10.16-x86_64-i386-64bit\n",
      "[codecarbon INFO @ 10:19:50]   Python version: 3.9.13\n",
      "[codecarbon INFO @ 10:19:50]   CodeCarbon version: 2.3.1\n",
      "[codecarbon INFO @ 10:19:50]   Available RAM : 16.000 GB\n",
      "[codecarbon INFO @ 10:19:50]   CPU count: 10\n",
      "[codecarbon INFO @ 10:19:50]   CPU model: Apple M1 Pro\n",
      "[codecarbon INFO @ 10:19:50]   GPU count: None\n",
      "[codecarbon INFO @ 10:19:50]   GPU model: None\n",
      "[codecarbon INFO @ 10:19:52] Energy consumed for RAM : 0.000000 kWh. RAM Power : 6.0 W\n",
      "[codecarbon INFO @ 10:19:52] Energy consumed for all CPUs : 0.000000 kWh. Total CPU Power : 5.0 W\n",
      "[codecarbon INFO @ 10:19:52] 0.000001 kWh of electricity used since the beginning.\n",
      "[codecarbon INFO @ 10:19:52] [setup] RAM Tracking...\n",
      "[codecarbon INFO @ 10:19:52] [setup] GPU Tracking...\n",
      "[codecarbon INFO @ 10:19:52] No GPU found.\n",
      "[codecarbon INFO @ 10:19:52] [setup] CPU Tracking...\n",
      "[codecarbon WARNING @ 10:19:52] No CPU tracking mode found. Falling back on CPU constant mode.\n",
      "[codecarbon INFO @ 10:19:53] CPU Model on constant consumption mode: Apple M1 Pro\n",
      "[codecarbon INFO @ 10:19:53] >>> Tracker's metadata:\n",
      "[codecarbon INFO @ 10:19:53]   Platform system: macOS-10.16-x86_64-i386-64bit\n",
      "[codecarbon INFO @ 10:19:53]   Python version: 3.9.13\n",
      "[codecarbon INFO @ 10:19:53]   CodeCarbon version: 2.3.1\n",
      "[codecarbon INFO @ 10:19:53]   Available RAM : 16.000 GB\n",
      "[codecarbon INFO @ 10:19:53]   CPU count: 10\n",
      "[codecarbon INFO @ 10:19:53]   CPU model: Apple M1 Pro\n",
      "[codecarbon INFO @ 10:19:53]   GPU count: None\n",
      "[codecarbon INFO @ 10:19:53]   GPU model: None\n",
      "[codecarbon INFO @ 10:19:53] Energy consumed for RAM : 0.000000 kWh. RAM Power : 6.0 W\n",
      "[codecarbon INFO @ 10:19:53] Energy consumed for all CPUs : 0.000000 kWh. Total CPU Power : 5.0 W\n",
      "[codecarbon INFO @ 10:19:53] 0.000000 kWh of electricity used since the beginning.\n"
     ]
    },
    {
     "name": "stdout",
     "output_type": "stream",
     "text": [
      "{'accuracy': 0.9611940298507463, 'precision': 1.0, 'recall': 0.7111111111111111, 'f1': 0.8311688311688311}\n",
      "              precision    recall  f1-score   support\n",
      "\n",
      "         ham       0.96      1.00      0.98       290\n",
      "        spam       1.00      0.71      0.83        45\n",
      "\n",
      "    accuracy                           0.96       335\n",
      "   macro avg       0.98      0.86      0.90       335\n",
      "weighted avg       0.96      0.96      0.96       335\n",
      "\n",
      "Experiment ID 0\n"
     ]
    },
    {
     "ename": "NameError",
     "evalue": "name 'iteration' is not defined",
     "output_type": "error",
     "traceback": [
      "\u001b[0;31m---------------------------------------------------------------------------\u001b[0m",
      "\u001b[0;31mNameError\u001b[0m                                 Traceback (most recent call last)",
      "\u001b[0;32m/var/folders/w2/678w66v577g8fksb2c_142zw0000gn/T/ipykernel_6738/2191449733.py\u001b[0m in \u001b[0;36m<module>\u001b[0;34m\u001b[0m\n\u001b[1;32m      1\u001b[0m \u001b[0;31m# initial values\u001b[0m\u001b[0;34m\u001b[0m\u001b[0;34m\u001b[0m\u001b[0m\n\u001b[1;32m      2\u001b[0m \u001b[0mexperiment_id\u001b[0m\u001b[0;34m=\u001b[0m\u001b[0;36m0\u001b[0m\u001b[0;34m\u001b[0m\u001b[0;34m\u001b[0m\u001b[0m\n\u001b[0;32m----> 3\u001b[0;31m \u001b[0mrun_experiment_exp\u001b[0m\u001b[0;34m(\u001b[0m\u001b[0mexperiment_id\u001b[0m\u001b[0;34m,\u001b[0m \u001b[0;34m'Random Forest'\u001b[0m\u001b[0;34m,\u001b[0m \u001b[0mdataset_size_percentage\u001b[0m\u001b[0;34m,\u001b[0m \u001b[0mfeatureset_percentage\u001b[0m\u001b[0;34m,\u001b[0m \u001b[0mpreprocessed_data\u001b[0m\u001b[0;34m,\u001b[0m \u001b[0mraw_data\u001b[0m\u001b[0;34m)\u001b[0m\u001b[0;34m\u001b[0m\u001b[0;34m\u001b[0m\u001b[0m\n\u001b[0m",
      "\u001b[0;32m~/Dev/Data-GreenAI/src/energy_experiment.py\u001b[0m in \u001b[0;36mrun_experiment_exp\u001b[0;34m(experiment_id, classifier_name, dataset_percentage, featureset_percentage, preprocessed_data, raw_data)\u001b[0m\n\u001b[1;32m    213\u001b[0m     \u001b[0mprint\u001b[0m\u001b[0;34m(\u001b[0m\u001b[0;34mf\"Experiment ID {experiment_id}\"\u001b[0m\u001b[0;34m)\u001b[0m\u001b[0;34m\u001b[0m\u001b[0;34m\u001b[0m\u001b[0m\n\u001b[1;32m    214\u001b[0m     \u001b[0mprint\u001b[0m\u001b[0;34m(\u001b[0m\u001b[0;34mf\"  Energy Consumption: {training_energy_consumption} Joules\"\u001b[0m\u001b[0;34m)\u001b[0m\u001b[0;34m\u001b[0m\u001b[0;34m\u001b[0m\u001b[0m\n\u001b[0;32m--> 215\u001b[0;31m     \u001b[0mprint\u001b[0m\u001b[0;34m(\u001b[0m\u001b[0;34mf\"  Duration: {training_duration} seconds\"\u001b[0m\u001b[0;34m)\u001b[0m\u001b[0;34m\u001b[0m\u001b[0;34m\u001b[0m\u001b[0m\n\u001b[0m\u001b[1;32m    216\u001b[0m \u001b[0;34m\u001b[0m\u001b[0m\n\u001b[1;32m    217\u001b[0m     result_row = [\n",
      "\u001b[0;31mNameError\u001b[0m: name 'iteration' is not defined"
     ]
    }
   ],
   "source": [
    "# initial values\n",
    "experiment_id=0\n",
    "run_experiment_exp(experiment_id, 'Random Forest', dataset_size_percentage, featureset_percentage, preprocessed_data, raw_data)"
   ]
  },
  {
   "cell_type": "code",
   "execution_count": null,
   "id": "1a537a3e-ea30-4868-a0a2-29764b96285e",
   "metadata": {},
   "outputs": [],
   "source": []
  }
 ],
 "metadata": {
  "kernelspec": {
   "display_name": "Python 3 (ipykernel)",
   "language": "python",
   "name": "python3"
  },
  "language_info": {
   "codemirror_mode": {
    "name": "ipython",
    "version": 3
   },
   "file_extension": ".py",
   "mimetype": "text/x-python",
   "name": "python",
   "nbconvert_exporter": "python",
   "pygments_lexer": "ipython3",
   "version": "3.9.13"
  }
 },
 "nbformat": 4,
 "nbformat_minor": 5
}
