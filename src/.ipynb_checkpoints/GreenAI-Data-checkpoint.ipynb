{
 "cells": [
  {
   "cell_type": "code",
   "execution_count": null,
   "id": "93c4e18c-7b34-4690-a2de-a20ea55f752b",
   "metadata": {},
   "outputs": [],
   "source": [
    "pip install codecarbon"
   ]
  },
  {
   "cell_type": "code",
   "execution_count": 1,
   "id": "dcb0871f-0809-484f-a790-672bfee99ae1",
   "metadata": {},
   "outputs": [
    {
     "name": "stderr",
     "output_type": "stream",
     "text": [
      "[nltk_data] Downloading package stopwords to /Users/june/nltk_data...\n",
      "[nltk_data]   Package stopwords is already up-to-date!\n"
     ]
    }
   ],
   "source": [
    "import sys\n",
    "sys.path.append('..')\n",
    "\n",
    "from src.text_classification import generate_model, model_validation\n",
    "from src.modify_dataset import modify_dataset_and_raw_data_with_percentage_size_to_keep\n",
    "from src.modify_dataset import modify_dataset_select_features\n",
    "from src.energy_experiment import run_experiment_exp\n",
    "\n",
    "from sklearn.svm import SVC\n",
    "from sklearn.tree import DecisionTreeClassifier\n",
    "from sklearn.naive_bayes import ComplementNB\n",
    "from sklearn.neighbors import KNeighborsClassifier\n",
    "from sklearn.ensemble import RandomForestClassifier, AdaBoostClassifier, BaggingClassifier\n",
    "from sklearn.linear_model import LogisticRegression\n",
    "\n",
    "from joblib import load\n",
    "from src.text_preprocessing import _load_data\n",
    "from codecarbon import EmissionsTracker\n",
    "import csv\n",
    "import time\n",
    "import random\n",
    "import os"
   ]
  },
  {
   "cell_type": "code",
   "execution_count": 2,
   "id": "52427ce8-cbd3-4119-95ee-b688fccdea6b",
   "metadata": {},
   "outputs": [],
   "source": [
    "raw_data = _load_data()\n",
    "preprocessed_data = load(os.path.abspath('') + '/src/output/preprocessed_data.joblib')"
   ]
  },
  {
   "cell_type": "code",
   "execution_count": 3,
   "id": "c5be70c8-281e-42b7-8b94-96b8ab9552bf",
   "metadata": {},
   "outputs": [],
   "source": [
    "NUMBER_OF_EXPERIMENTAL_RUNS = 1\n",
    "SLEEP_TIME = 1\n",
    "CLASSIFIERS = {\n",
    "    'Random Forest': RandomForestClassifier(class_weight=\"balanced\"),\n",
    "}\n",
    "\n",
    "dataset_size_percentage = 80\n",
    "featureset_percentage = 50"
   ]
  },
  {
   "cell_type": "code",
   "execution_count": 4,
   "id": "8858bcb4-925e-4a1a-bd69-259ab6299957",
   "metadata": {},
   "outputs": [
    {
     "name": "stdout",
     "output_type": "stream",
     "text": [
      "test\n",
      "Starting Experiment: 0,\n",
      " classifier RandomForestClassifier(class_weight='balanced'),\n",
      " dataset_percentage 50,\n",
      " featureset_percentage 50\n"
     ]
    },
    {
     "name": "stderr",
     "output_type": "stream",
     "text": [
      "[codecarbon INFO @ 10:18:15] [setup] RAM Tracking...\n",
      "[codecarbon INFO @ 10:18:15] [setup] GPU Tracking...\n",
      "[codecarbon INFO @ 10:18:15] No GPU found.\n",
      "[codecarbon INFO @ 10:18:16] [setup] CPU Tracking...\n",
      "[codecarbon WARNING @ 10:18:16] No CPU tracking mode found. Falling back on CPU constant mode.\n",
      "[codecarbon INFO @ 10:18:17] CPU Model on constant consumption mode: Apple M1 Pro\n",
      "[codecarbon INFO @ 10:18:17] >>> Tracker's metadata:\n",
      "[codecarbon INFO @ 10:18:17]   Platform system: macOS-10.16-x86_64-i386-64bit\n",
      "[codecarbon INFO @ 10:18:17]   Python version: 3.9.13\n",
      "[codecarbon INFO @ 10:18:17]   CodeCarbon version: 2.3.1\n",
      "[codecarbon INFO @ 10:18:17]   Available RAM : 16.000 GB\n",
      "[codecarbon INFO @ 10:18:17]   CPU count: 10\n",
      "[codecarbon INFO @ 10:18:17]   CPU model: Apple M1 Pro\n",
      "[codecarbon INFO @ 10:18:17]   GPU count: None\n",
      "[codecarbon INFO @ 10:18:17]   GPU model: None\n",
      "[codecarbon INFO @ 10:18:20] Energy consumed for RAM : 0.000000 kWh. RAM Power : 6.0 W\n",
      "[codecarbon INFO @ 10:18:20] Energy consumed for all CPUs : 0.000000 kWh. Total CPU Power : 5.0 W\n",
      "[codecarbon INFO @ 10:18:20] 0.000000 kWh of electricity used since the beginning.\n",
      "[codecarbon INFO @ 10:18:20] [setup] RAM Tracking...\n",
      "[codecarbon INFO @ 10:18:20] [setup] GPU Tracking...\n",
      "[codecarbon INFO @ 10:18:20] No GPU found.\n",
      "[codecarbon INFO @ 10:18:20] [setup] CPU Tracking...\n",
      "[codecarbon WARNING @ 10:18:20] No CPU tracking mode found. Falling back on CPU constant mode.\n",
      "[codecarbon INFO @ 10:18:22] CPU Model on constant consumption mode: Apple M1 Pro\n",
      "[codecarbon INFO @ 10:18:22] >>> Tracker's metadata:\n",
      "[codecarbon INFO @ 10:18:22]   Platform system: macOS-10.16-x86_64-i386-64bit\n",
      "[codecarbon INFO @ 10:18:22]   Python version: 3.9.13\n",
      "[codecarbon INFO @ 10:18:22]   CodeCarbon version: 2.3.1\n",
      "[codecarbon INFO @ 10:18:22]   Available RAM : 16.000 GB\n",
      "[codecarbon INFO @ 10:18:22]   CPU count: 10\n",
      "[codecarbon INFO @ 10:18:22]   CPU model: Apple M1 Pro\n",
      "[codecarbon INFO @ 10:18:22]   GPU count: None\n",
      "[codecarbon INFO @ 10:18:22]   GPU model: None\n",
      "[codecarbon INFO @ 10:18:23] Energy consumed for RAM : 0.000001 kWh. RAM Power : 6.0 W\n",
      "[codecarbon INFO @ 10:18:23] Energy consumed for all CPUs : 0.000001 kWh. Total CPU Power : 5.0 W\n",
      "[codecarbon INFO @ 10:18:23] 0.000002 kWh of electricity used since the beginning.\n",
      "[codecarbon INFO @ 10:18:23] [setup] RAM Tracking...\n",
      "[codecarbon INFO @ 10:18:23] [setup] GPU Tracking...\n",
      "[codecarbon INFO @ 10:18:23] No GPU found.\n",
      "[codecarbon INFO @ 10:18:23] [setup] CPU Tracking...\n",
      "[codecarbon WARNING @ 10:18:23] No CPU tracking mode found. Falling back on CPU constant mode.\n",
      "[codecarbon INFO @ 10:18:25] CPU Model on constant consumption mode: Apple M1 Pro\n",
      "[codecarbon INFO @ 10:18:25] >>> Tracker's metadata:\n",
      "[codecarbon INFO @ 10:18:25]   Platform system: macOS-10.16-x86_64-i386-64bit\n",
      "[codecarbon INFO @ 10:18:25]   Python version: 3.9.13\n",
      "[codecarbon INFO @ 10:18:25]   CodeCarbon version: 2.3.1\n",
      "[codecarbon INFO @ 10:18:25]   Available RAM : 16.000 GB\n",
      "[codecarbon INFO @ 10:18:25]   CPU count: 10\n",
      "[codecarbon INFO @ 10:18:25]   CPU model: Apple M1 Pro\n",
      "[codecarbon INFO @ 10:18:25]   GPU count: None\n",
      "[codecarbon INFO @ 10:18:25]   GPU model: None\n",
      "[codecarbon INFO @ 10:18:25] Energy consumed for RAM : 0.000000 kWh. RAM Power : 6.0 W\n",
      "[codecarbon INFO @ 10:18:25] Energy consumed for all CPUs : 0.000000 kWh. Total CPU Power : 5.0 W\n",
      "[codecarbon INFO @ 10:18:25] 0.000000 kWh of electricity used since the beginning.\n"
     ]
    },
    {
     "name": "stdout",
     "output_type": "stream",
     "text": [
      "{'accuracy': 0.9736842105263158, 'precision': 1.0, 'recall': 0.8035714285714286, 'f1': 0.8910891089108911}\n",
      "              precision    recall  f1-score   support\n",
      "\n",
      "         ham       0.97      1.00      0.99       724\n",
      "        spam       1.00      0.80      0.89       112\n",
      "\n",
      "    accuracy                           0.97       836\n",
      "   macro avg       0.99      0.90      0.94       836\n",
      "weighted avg       0.97      0.97      0.97       836\n",
      "\n",
      "Experiment ID 0\n"
     ]
    },
    {
     "ename": "NameError",
     "evalue": "name 'iteration' is not defined",
     "output_type": "error",
     "traceback": [
      "\u001b[0;31m---------------------------------------------------------------------------\u001b[0m",
      "\u001b[0;31mNameError\u001b[0m                                 Traceback (most recent call last)",
      "\u001b[0;32m/var/folders/w2/678w66v577g8fksb2c_142zw0000gn/T/ipykernel_6738/1260583812.py\u001b[0m in \u001b[0;36m<module>\u001b[0;34m\u001b[0m\n\u001b[1;32m      1\u001b[0m \u001b[0;31m# initial values\u001b[0m\u001b[0;34m\u001b[0m\u001b[0;34m\u001b[0m\u001b[0m\n\u001b[1;32m      2\u001b[0m \u001b[0mexperiment_id\u001b[0m\u001b[0;34m=\u001b[0m\u001b[0;36m0\u001b[0m\u001b[0;34m\u001b[0m\u001b[0;34m\u001b[0m\u001b[0m\n\u001b[0;32m----> 3\u001b[0;31m \u001b[0mrun_experiment_exp\u001b[0m\u001b[0;34m(\u001b[0m\u001b[0mexperiment_id\u001b[0m\u001b[0;34m,\u001b[0m \u001b[0;34m'Random Forest'\u001b[0m\u001b[0;34m,\u001b[0m \u001b[0mdataset_size_percentage\u001b[0m\u001b[0;34m,\u001b[0m \u001b[0mdataset_size_percentage\u001b[0m\u001b[0;34m,\u001b[0m \u001b[0mpreprocessed_data\u001b[0m\u001b[0;34m,\u001b[0m \u001b[0mraw_data\u001b[0m\u001b[0;34m)\u001b[0m\u001b[0;34m\u001b[0m\u001b[0;34m\u001b[0m\u001b[0m\n\u001b[0m",
      "\u001b[0;32m~/Dev/Data-GreenAI/src/energy_experiment.py\u001b[0m in \u001b[0;36mrun_experiment_exp\u001b[0;34m(experiment_id, classifier_name, dataset_percentage, featureset_percentage, preprocessed_data, raw_data)\u001b[0m\n\u001b[1;32m    213\u001b[0m \u001b[0;34m\u001b[0m\u001b[0m\n\u001b[1;32m    214\u001b[0m     \u001b[0mprint\u001b[0m\u001b[0;34m(\u001b[0m\u001b[0;34mf\"Experiment ID {experiment_id}\"\u001b[0m\u001b[0;34m)\u001b[0m\u001b[0;34m\u001b[0m\u001b[0;34m\u001b[0m\u001b[0m\n\u001b[0;32m--> 215\u001b[0;31m     \u001b[0mprint\u001b[0m\u001b[0;34m(\u001b[0m\u001b[0;34mf\"Run {iteration}\"\u001b[0m\u001b[0;34m)\u001b[0m\u001b[0;34m\u001b[0m\u001b[0;34m\u001b[0m\u001b[0m\n\u001b[0m\u001b[1;32m    216\u001b[0m     \u001b[0mprint\u001b[0m\u001b[0;34m(\u001b[0m\u001b[0;34mf\"  Energy Consumption: {training_energy_consumption} Joules\"\u001b[0m\u001b[0;34m)\u001b[0m\u001b[0;34m\u001b[0m\u001b[0;34m\u001b[0m\u001b[0m\n\u001b[1;32m    217\u001b[0m     \u001b[0mprint\u001b[0m\u001b[0;34m(\u001b[0m\u001b[0;34mf\"  Duration: {training_duration} seconds\"\u001b[0m\u001b[0;34m)\u001b[0m\u001b[0;34m\u001b[0m\u001b[0;34m\u001b[0m\u001b[0m\n",
      "\u001b[0;31mNameError\u001b[0m: name 'iteration' is not defined"
     ]
    }
   ],
   "source": [
    "# initial values\n",
    "experiment_id=0\n",
    "run_experiment_exp(experiment_id, 'Random Forest', dataset_size_percentage, featureset_percentage, preprocessed_data, raw_data)"
   ]
  },
  {
   "cell_type": "code",
   "execution_count": null,
   "id": "1a537a3e-ea30-4868-a0a2-29764b96285e",
   "metadata": {},
   "outputs": [],
   "source": []
  }
 ],
 "metadata": {
  "kernelspec": {
   "display_name": "Python 3 (ipykernel)",
   "language": "python",
   "name": "python3"
  },
  "language_info": {
   "codemirror_mode": {
    "name": "ipython",
    "version": 3
   },
   "file_extension": ".py",
   "mimetype": "text/x-python",
   "name": "python",
   "nbconvert_exporter": "python",
   "pygments_lexer": "ipython3",
   "version": "3.9.13"
  }
 },
 "nbformat": 4,
 "nbformat_minor": 5
}
