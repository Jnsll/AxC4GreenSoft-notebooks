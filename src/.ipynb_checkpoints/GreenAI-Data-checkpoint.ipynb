{
 "cells": [
  {
   "cell_type": "code",
   "execution_count": 15,
   "id": "93c4e18c-7b34-4690-a2de-a20ea55f752b",
   "metadata": {},
   "outputs": [
    {
     "name": "stdout",
     "output_type": "stream",
     "text": [
      "Collecting codecarbon\n",
      "  Downloading codecarbon-2.3.2-py3-none-any.whl (178 kB)\n",
      "\u001b[2K     \u001b[90m━━━━━━━━━━━━━━━━━━━━━━━━━━━━━━━━━━━━━━━\u001b[0m \u001b[32m179.0/179.0 kB\u001b[0m \u001b[31m3.8 MB/s\u001b[0m eta \u001b[36m0:00:00\u001b[0ma \u001b[36m0:00:01\u001b[0m\n",
      "\u001b[?25hCollecting pynvml\n",
      "  Using cached pynvml-11.5.0-py3-none-any.whl (53 kB)\n",
      "Collecting py-cpuinfo\n",
      "  Using cached py_cpuinfo-9.0.0-py3-none-any.whl (22 kB)\n",
      "Collecting pandas\n",
      "  Downloading pandas-2.1.3-cp310-cp310-macosx_11_0_arm64.whl (10.9 MB)\n",
      "\u001b[2K     \u001b[90m━━━━━━━━━━━━━━━━━━━━━━━━━━━━━━━━━━━━━━━━\u001b[0m \u001b[32m10.9/10.9 MB\u001b[0m \u001b[31m12.3 MB/s\u001b[0m eta \u001b[36m0:00:00\u001b[0m00:01\u001b[0m00:01\u001b[0m\n",
      "\u001b[?25hCollecting arrow\n",
      "  Downloading arrow-1.3.0-py3-none-any.whl (66 kB)\n",
      "\u001b[2K     \u001b[90m━━━━━━━━━━━━━━━━━━━━━━━━━━━━━━━━━━━━━━━━\u001b[0m \u001b[32m66.4/66.4 kB\u001b[0m \u001b[31m6.6 MB/s\u001b[0m eta \u001b[36m0:00:00\u001b[0m\n",
      "\u001b[?25hRequirement already satisfied: prometheus-client in /Users/june/.pyenv/versions/3.10.6/lib/python3.10/site-packages (from codecarbon) (0.15.0)\n",
      "Collecting requests\n",
      "  Using cached requests-2.31.0-py3-none-any.whl (62 kB)\n",
      "Collecting fuzzywuzzy\n",
      "  Using cached fuzzywuzzy-0.18.0-py2.py3-none-any.whl (18 kB)\n",
      "Collecting click\n",
      "  Using cached click-8.1.7-py3-none-any.whl (97 kB)\n",
      "Requirement already satisfied: psutil in /Users/june/.pyenv/versions/3.10.6/lib/python3.10/site-packages (from codecarbon) (5.9.3)\n",
      "Requirement already satisfied: python-dateutil>=2.7.0 in /Users/june/.pyenv/versions/3.10.6/lib/python3.10/site-packages (from arrow->codecarbon) (2.8.2)\n",
      "Collecting types-python-dateutil>=2.8.10\n",
      "  Downloading types_python_dateutil-2.8.19.14-py3-none-any.whl (9.4 kB)\n",
      "Collecting tzdata>=2022.1\n",
      "  Using cached tzdata-2023.3-py2.py3-none-any.whl (341 kB)\n",
      "Collecting numpy<2,>=1.22.4\n",
      "  Downloading numpy-1.26.2-cp310-cp310-macosx_11_0_arm64.whl (14.0 MB)\n",
      "\u001b[2K     \u001b[90m━━━━━━━━━━━━━━━━━━━━━━━━━━━━━━━━━━━━━━━━\u001b[0m \u001b[32m14.0/14.0 MB\u001b[0m \u001b[31m12.2 MB/s\u001b[0m eta \u001b[36m0:00:00\u001b[0m00:01\u001b[0m00:01\u001b[0m\n",
      "\u001b[?25hCollecting pytz>=2020.1\n",
      "  Downloading pytz-2023.3.post1-py2.py3-none-any.whl (502 kB)\n",
      "\u001b[2K     \u001b[90m━━━━━━━━━━━━━━━━━━━━━━━━━━━━━━━━━━━━━━\u001b[0m \u001b[32m502.5/502.5 kB\u001b[0m \u001b[31m11.7 MB/s\u001b[0m eta \u001b[36m0:00:00\u001b[0m00:01\u001b[0m\n",
      "\u001b[?25hCollecting urllib3<3,>=1.21.1\n",
      "  Downloading urllib3-2.1.0-py3-none-any.whl (104 kB)\n",
      "\u001b[2K     \u001b[90m━━━━━━━━━━━━━━━━━━━━━━━━━━━━━━━━━━━━━━\u001b[0m \u001b[32m104.6/104.6 kB\u001b[0m \u001b[31m11.7 MB/s\u001b[0m eta \u001b[36m0:00:00\u001b[0m\n",
      "\u001b[?25hRequirement already satisfied: idna<4,>=2.5 in /Users/june/.pyenv/versions/3.10.6/lib/python3.10/site-packages (from requests->codecarbon) (3.4)\n",
      "Collecting charset-normalizer<4,>=2\n",
      "  Downloading charset_normalizer-3.3.2-cp310-cp310-macosx_11_0_arm64.whl (120 kB)\n",
      "\u001b[2K     \u001b[90m━━━━━━━━━━━━━━━━━━━━━━━━━━━━━━━━━━━━━━━\u001b[0m \u001b[32m120.4/120.4 kB\u001b[0m \u001b[31m9.3 MB/s\u001b[0m eta \u001b[36m0:00:00\u001b[0m\n",
      "\u001b[?25hCollecting certifi>=2017.4.17\n",
      "  Downloading certifi-2023.11.17-py3-none-any.whl (162 kB)\n",
      "\u001b[2K     \u001b[90m━━━━━━━━━━━━━━━━━━━━━━━━━━━━━━━━━━━━━━━\u001b[0m \u001b[32m162.5/162.5 kB\u001b[0m \u001b[31m9.8 MB/s\u001b[0m eta \u001b[36m0:00:00\u001b[0m\n",
      "\u001b[?25hRequirement already satisfied: six>=1.5 in /Users/june/.pyenv/versions/3.10.6/lib/python3.10/site-packages (from python-dateutil>=2.7.0->arrow->codecarbon) (1.16.0)\n",
      "Installing collected packages: types-python-dateutil, pytz, py-cpuinfo, fuzzywuzzy, urllib3, tzdata, pynvml, numpy, click, charset-normalizer, certifi, requests, pandas, arrow, codecarbon\n",
      "Successfully installed arrow-1.3.0 certifi-2023.11.17 charset-normalizer-3.3.2 click-8.1.7 codecarbon-2.3.2 fuzzywuzzy-0.18.0 numpy-1.26.2 pandas-2.1.3 py-cpuinfo-9.0.0 pynvml-11.5.0 pytz-2023.3.post1 requests-2.31.0 types-python-dateutil-2.8.19.14 tzdata-2023.3 urllib3-2.1.0\n",
      "\n",
      "\u001b[1m[\u001b[0m\u001b[34;49mnotice\u001b[0m\u001b[1;39;49m]\u001b[0m\u001b[39;49m A new release of pip available: \u001b[0m\u001b[31;49m22.2.1\u001b[0m\u001b[39;49m -> \u001b[0m\u001b[32;49m23.3.1\u001b[0m\n",
      "\u001b[1m[\u001b[0m\u001b[34;49mnotice\u001b[0m\u001b[1;39;49m]\u001b[0m\u001b[39;49m To update, run: \u001b[0m\u001b[32;49mpip install --upgrade pip\u001b[0m\n",
      "Note: you may need to restart the kernel to use updated packages.\n"
     ]
    }
   ],
   "source": [
    "pip install codecarbon"
   ]
  },
  {
   "cell_type": "code",
   "execution_count": 21,
   "id": "15e709c5",
   "metadata": {},
   "outputs": [
    {
     "name": "stdout",
     "output_type": "stream",
     "text": [
      "Requirement already satisfied: pip in /Users/june/.pyenv/versions/3.10.6/lib/python3.10/site-packages (22.2.1)\n",
      "Collecting pip\n",
      "  Using cached pip-23.3.1-py3-none-any.whl (2.1 MB)\n",
      "Installing collected packages: pip\n",
      "  Attempting uninstall: pip\n",
      "    Found existing installation: pip 22.2.1\n",
      "    Uninstalling pip-22.2.1:\n",
      "      Successfully uninstalled pip-22.2.1\n",
      "Successfully installed pip-23.3.1\n",
      "Note: you may need to restart the kernel to use updated packages.\n"
     ]
    }
   ],
   "source": [
    "pip install --upgrade pip"
   ]
  },
  {
   "cell_type": "code",
   "execution_count": 2,
   "id": "4b5a8802",
   "metadata": {},
   "outputs": [
    {
     "name": "stdout",
     "output_type": "stream",
     "text": [
      "Collecting sklearn\n",
      "  Downloading sklearn-0.0.post12.tar.gz (2.6 kB)\n",
      "  Installing build dependencies ... \u001b[?25ldone\n",
      "\u001b[?25h  Getting requirements to build wheel ... \u001b[?25lerror\n",
      "  \u001b[1;31merror\u001b[0m: \u001b[1msubprocess-exited-with-error\u001b[0m\n",
      "  \n",
      "  \u001b[31m×\u001b[0m \u001b[32mGetting requirements to build wheel\u001b[0m did not run successfully.\n",
      "  \u001b[31m│\u001b[0m exit code: \u001b[1;36m1\u001b[0m\n",
      "  \u001b[31m╰─>\u001b[0m \u001b[31m[15 lines of output]\u001b[0m\n",
      "  \u001b[31m   \u001b[0m The 'sklearn' PyPI package is deprecated, use 'scikit-learn'\n",
      "  \u001b[31m   \u001b[0m rather than 'sklearn' for pip commands.\n",
      "  \u001b[31m   \u001b[0m \n",
      "  \u001b[31m   \u001b[0m Here is how to fix this error in the main use cases:\n",
      "  \u001b[31m   \u001b[0m - use 'pip install scikit-learn' rather than 'pip install sklearn'\n",
      "  \u001b[31m   \u001b[0m - replace 'sklearn' by 'scikit-learn' in your pip requirements files\n",
      "  \u001b[31m   \u001b[0m   (requirements.txt, setup.py, setup.cfg, Pipfile, etc ...)\n",
      "  \u001b[31m   \u001b[0m - if the 'sklearn' package is used by one of your dependencies,\n",
      "  \u001b[31m   \u001b[0m   it would be great if you take some time to track which package uses\n",
      "  \u001b[31m   \u001b[0m   'sklearn' instead of 'scikit-learn' and report it to their issue tracker\n",
      "  \u001b[31m   \u001b[0m - as a last resort, set the environment variable\n",
      "  \u001b[31m   \u001b[0m   SKLEARN_ALLOW_DEPRECATED_SKLEARN_PACKAGE_INSTALL=True to avoid this error\n",
      "  \u001b[31m   \u001b[0m \n",
      "  \u001b[31m   \u001b[0m More information is available at\n",
      "  \u001b[31m   \u001b[0m https://github.com/scikit-learn/sklearn-pypi-package\n",
      "  \u001b[31m   \u001b[0m \u001b[31m[end of output]\u001b[0m\n",
      "  \n",
      "  \u001b[1;35mnote\u001b[0m: This error originates from a subprocess, and is likely not a problem with pip.\n",
      "\u001b[?25h\u001b[1;31merror\u001b[0m: \u001b[1msubprocess-exited-with-error\u001b[0m\n",
      "\n",
      "\u001b[31m×\u001b[0m \u001b[32mGetting requirements to build wheel\u001b[0m did not run successfully.\n",
      "\u001b[31m│\u001b[0m exit code: \u001b[1;36m1\u001b[0m\n",
      "\u001b[31m╰─>\u001b[0m See above for output.\n",
      "\n",
      "\u001b[1;35mnote\u001b[0m: This error originates from a subprocess, and is likely not a problem with pip.\n",
      "Note: you may need to restart the kernel to use updated packages.\n"
     ]
    }
   ],
   "source": [
    "pip install sklearn"
   ]
  },
  {
   "cell_type": "code",
   "execution_count": 1,
   "id": "dcb0871f-0809-484f-a790-672bfee99ae1",
   "metadata": {},
   "outputs": [
    {
     "name": "stderr",
     "output_type": "stream",
     "text": [
      "[nltk_data] Downloading package stopwords to /Users/june/nltk_data...\n",
      "[nltk_data]   Package stopwords is already up-to-date!\n"
     ]
    }
   ],
   "source": [
    "import sys\n",
    "sys.path.append('..')\n",
    "\n",
    "from src.text_classification import generate_model, model_validation\n",
    "from src.modify_dataset import modify_dataset_and_raw_data_with_percentage_size_to_keep\n",
    "from src.modify_dataset import modify_dataset_select_features\n",
    "from src.energy_experiment import run_experiment_exp\n",
    "\n",
    "from sklearn.svm import SVC\n",
    "from sklearn.tree import DecisionTreeClassifier\n",
    "from sklearn.naive_bayes import ComplementNB\n",
    "from sklearn.neighbors import KNeighborsClassifier\n",
    "from sklearn.ensemble import RandomForestClassifier, AdaBoostClassifier, BaggingClassifier\n",
    "from sklearn.linear_model import LogisticRegression\n",
    "\n",
    "from joblib import load\n",
    "from src.text_preprocessing import _load_data\n",
    "from codecarbon import EmissionsTracker\n",
    "import csv\n",
    "import time\n",
    "import random\n",
    "import os"
   ]
  },
  {
   "cell_type": "code",
   "execution_count": 3,
   "id": "52427ce8-cbd3-4119-95ee-b688fccdea6b",
   "metadata": {},
   "outputs": [],
   "source": [
    "raw_data = _load_data()\n",
    "preprocessed_data = load(os.path.abspath('') + '/output/preprocessed_data.joblib')"
   ]
  },
  {
   "cell_type": "code",
   "execution_count": 4,
   "id": "c5be70c8-281e-42b7-8b94-96b8ab9552bf",
   "metadata": {},
   "outputs": [],
   "source": [
    "NUMBER_OF_EXPERIMENTAL_RUNS = 1\n",
    "SLEEP_TIME = 1\n",
    "CLASSIFIERS = {\n",
    "    'Random Forest': RandomForestClassifier(class_weight=\"balanced\"),\n",
    "}\n",
    "\n",
    "dataset_size_percentage = 10\n",
    "featureset_percentage = 10"
   ]
  },
  {
   "cell_type": "code",
   "execution_count": 5,
   "id": "8858bcb4-925e-4a1a-bd69-259ab6299957",
   "metadata": {},
   "outputs": [
    {
     "name": "stdout",
     "output_type": "stream",
     "text": [
      "Starting Experiment: 0,\n",
      " classifier RandomForestClassifier(class_weight='balanced'),\n",
      " dataset_percentage 10,\n",
      " featureset_percentage 10\n"
     ]
    },
    {
     "name": "stderr",
     "output_type": "stream",
     "text": [
      "[codecarbon INFO @ 16:10:48] [setup] RAM Tracking...\n",
      "[codecarbon INFO @ 16:10:48] [setup] GPU Tracking...\n",
      "[codecarbon INFO @ 16:10:48] No GPU found.\n",
      "[codecarbon INFO @ 16:10:48] [setup] CPU Tracking...\n",
      "[codecarbon WARNING @ 16:10:48] No CPU tracking mode found. Falling back on CPU constant mode.\n",
      "[codecarbon INFO @ 16:10:50] CPU Model on constant consumption mode: Apple M1 Pro\n",
      "[codecarbon INFO @ 16:10:50] >>> Tracker's metadata:\n",
      "[codecarbon INFO @ 16:10:50]   Platform system: macOS-10.16-x86_64-i386-64bit\n",
      "[codecarbon INFO @ 16:10:50]   Python version: 3.9.13\n",
      "[codecarbon INFO @ 16:10:50]   CodeCarbon version: 2.3.1\n",
      "[codecarbon INFO @ 16:10:50]   Available RAM : 16.000 GB\n",
      "[codecarbon INFO @ 16:10:50]   CPU count: 10\n",
      "[codecarbon INFO @ 16:10:50]   CPU model: Apple M1 Pro\n",
      "[codecarbon INFO @ 16:10:50]   GPU count: None\n",
      "[codecarbon INFO @ 16:10:50]   GPU model: None\n",
      "[codecarbon INFO @ 16:10:53] Energy consumed for RAM : 0.000000 kWh. RAM Power : 6.0 W\n",
      "[codecarbon INFO @ 16:10:53] Energy consumed for all CPUs : 0.000000 kWh. Total CPU Power : 5.0 W\n",
      "[codecarbon INFO @ 16:10:53] 0.000000 kWh of electricity used since the beginning.\n",
      "[codecarbon INFO @ 16:10:53] [setup] RAM Tracking...\n",
      "[codecarbon INFO @ 16:10:53] [setup] GPU Tracking...\n",
      "[codecarbon INFO @ 16:10:53] No GPU found.\n",
      "[codecarbon INFO @ 16:10:53] [setup] CPU Tracking...\n",
      "[codecarbon WARNING @ 16:10:53] No CPU tracking mode found. Falling back on CPU constant mode.\n",
      "[codecarbon INFO @ 16:10:54] CPU Model on constant consumption mode: Apple M1 Pro\n",
      "[codecarbon INFO @ 16:10:54] >>> Tracker's metadata:\n",
      "[codecarbon INFO @ 16:10:54]   Platform system: macOS-10.16-x86_64-i386-64bit\n",
      "[codecarbon INFO @ 16:10:54]   Python version: 3.9.13\n",
      "[codecarbon INFO @ 16:10:54]   CodeCarbon version: 2.3.1\n",
      "[codecarbon INFO @ 16:10:54]   Available RAM : 16.000 GB\n",
      "[codecarbon INFO @ 16:10:54]   CPU count: 10\n",
      "[codecarbon INFO @ 16:10:54]   CPU model: Apple M1 Pro\n",
      "[codecarbon INFO @ 16:10:54]   GPU count: None\n",
      "[codecarbon INFO @ 16:10:54]   GPU model: None\n",
      "[codecarbon INFO @ 16:10:55] Energy consumed for RAM : 0.000001 kWh. RAM Power : 6.0 W\n",
      "[codecarbon INFO @ 16:10:55] Energy consumed for all CPUs : 0.000001 kWh. Total CPU Power : 5.0 W\n",
      "[codecarbon INFO @ 16:10:55] 0.000001 kWh of electricity used since the beginning.\n",
      "[codecarbon INFO @ 16:10:55] [setup] RAM Tracking...\n",
      "[codecarbon INFO @ 16:10:55] [setup] GPU Tracking...\n",
      "[codecarbon INFO @ 16:10:55] No GPU found.\n",
      "[codecarbon INFO @ 16:10:55] [setup] CPU Tracking...\n",
      "[codecarbon WARNING @ 16:10:55] No CPU tracking mode found. Falling back on CPU constant mode.\n",
      "[codecarbon INFO @ 16:10:56] CPU Model on constant consumption mode: Apple M1 Pro\n",
      "[codecarbon INFO @ 16:10:56] >>> Tracker's metadata:\n",
      "[codecarbon INFO @ 16:10:56]   Platform system: macOS-10.16-x86_64-i386-64bit\n",
      "[codecarbon INFO @ 16:10:56]   Python version: 3.9.13\n",
      "[codecarbon INFO @ 16:10:56]   CodeCarbon version: 2.3.1\n",
      "[codecarbon INFO @ 16:10:56]   Available RAM : 16.000 GB\n",
      "[codecarbon INFO @ 16:10:56]   CPU count: 10\n",
      "[codecarbon INFO @ 16:10:56]   CPU model: Apple M1 Pro\n",
      "[codecarbon INFO @ 16:10:56]   GPU count: None\n",
      "[codecarbon INFO @ 16:10:56]   GPU model: None\n",
      "[codecarbon INFO @ 16:10:57] Energy consumed for RAM : 0.000000 kWh. RAM Power : 6.0 W\n",
      "[codecarbon INFO @ 16:10:57] Energy consumed for all CPUs : 0.000000 kWh. Total CPU Power : 5.0 W\n",
      "[codecarbon INFO @ 16:10:57] 0.000000 kWh of electricity used since the beginning.\n"
     ]
    },
    {
     "name": "stdout",
     "output_type": "stream",
     "text": [
      "{'accuracy': 0.9681063122923588, 'precision': 0.9873417721518988, 'recall': 0.7722772277227723, 'f1': 0.8666666666666666}\n",
      "              precision    recall  f1-score   support\n",
      "\n",
      "         ham       0.97      1.00      0.98      1303\n",
      "        spam       0.99      0.77      0.87       202\n",
      "\n",
      "    accuracy                           0.97      1505\n",
      "   macro avg       0.98      0.89      0.92      1505\n",
      "weighted avg       0.97      0.97      0.97      1505\n",
      "\n",
      "Experiment ID 0\n",
      "  Energy Consumption: 2.075932581558704 Joules\n",
      "  Duration: 0.48648500442504883 seconds\n"
     ]
    }
   ],
   "source": [
    "# initial values\n",
    "experiment_id=0\n",
    "run_experiment_exp(experiment_id, 'Random Forest', dataset_size_percentage, featureset_percentage, preprocessed_data, raw_data)"
   ]
  },
  {
   "cell_type": "code",
   "execution_count": 6,
   "id": "655859d1-9e1d-443f-97a2-a2c954f0b4b5",
   "metadata": {},
   "outputs": [],
   "source": [
    "from IPython.display import display\n",
    "from ipywidgets import interact, interactive, fixed, interact_manual\n",
    "import ipywidgets as widgets\n"
   ]
  },
  {
   "cell_type": "code",
   "execution_count": 7,
   "id": "7694038b",
   "metadata": {},
   "outputs": [
    {
     "data": {
      "application/vnd.jupyter.widget-view+json": {
       "model_id": "44ccc84efb484a1aa52e2fb6d47182cc",
       "version_major": 2,
       "version_minor": 0
      },
      "text/plain": [
       "IntSlider(value=100, description='Ratio of dataset used:', min=1)"
      ]
     },
     "metadata": {},
     "output_type": "display_data"
    }
   ],
   "source": [
    "slide = widgets.IntSlider(value=100, min=1, max=100, step=1, description='Ratio of dataset used:')\n",
    "display(slide)"
   ]
  },
  {
   "cell_type": "code",
   "execution_count": 9,
   "id": "54a5fc38",
   "metadata": {},
   "outputs": [
    {
     "data": {
      "text/plain": [
       "62"
      ]
     },
     "execution_count": 9,
     "metadata": {},
     "output_type": "execute_result"
    }
   ],
   "source": [
    "slide.value"
   ]
  },
  {
   "cell_type": "code",
   "execution_count": 10,
   "id": "17b13863",
   "metadata": {},
   "outputs": [
    {
     "name": "stdout",
     "output_type": "stream",
     "text": [
      "Starting Experiment: 0,\n",
      " classifier RandomForestClassifier(class_weight='balanced'),\n",
      " dataset_percentage 62,\n",
      " featureset_percentage 10\n"
     ]
    },
    {
     "name": "stderr",
     "output_type": "stream",
     "text": [
      "[codecarbon INFO @ 16:11:14] [setup] RAM Tracking...\n",
      "[codecarbon INFO @ 16:11:14] [setup] GPU Tracking...\n",
      "[codecarbon INFO @ 16:11:14] No GPU found.\n",
      "[codecarbon INFO @ 16:11:14] [setup] CPU Tracking...\n",
      "[codecarbon WARNING @ 16:11:14] No CPU tracking mode found. Falling back on CPU constant mode.\n",
      "[codecarbon INFO @ 16:11:16] CPU Model on constant consumption mode: Apple M1 Pro\n",
      "[codecarbon INFO @ 16:11:16] >>> Tracker's metadata:\n",
      "[codecarbon INFO @ 16:11:16]   Platform system: macOS-10.16-x86_64-i386-64bit\n",
      "[codecarbon INFO @ 16:11:16]   Python version: 3.9.13\n",
      "[codecarbon INFO @ 16:11:16]   CodeCarbon version: 2.3.1\n",
      "[codecarbon INFO @ 16:11:16]   Available RAM : 16.000 GB\n",
      "[codecarbon INFO @ 16:11:16]   CPU count: 10\n",
      "[codecarbon INFO @ 16:11:16]   CPU model: Apple M1 Pro\n",
      "[codecarbon INFO @ 16:11:16]   GPU count: None\n",
      "[codecarbon INFO @ 16:11:16]   GPU model: None\n",
      "[codecarbon INFO @ 16:11:19] Energy consumed for RAM : 0.000000 kWh. RAM Power : 6.0 W\n",
      "[codecarbon INFO @ 16:11:19] Energy consumed for all CPUs : 0.000000 kWh. Total CPU Power : 5.0 W\n",
      "[codecarbon INFO @ 16:11:19] 0.000000 kWh of electricity used since the beginning.\n",
      "[codecarbon INFO @ 16:11:19] [setup] RAM Tracking...\n",
      "[codecarbon INFO @ 16:11:19] [setup] GPU Tracking...\n",
      "[codecarbon INFO @ 16:11:19] No GPU found.\n",
      "[codecarbon INFO @ 16:11:19] [setup] CPU Tracking...\n",
      "[codecarbon WARNING @ 16:11:19] No CPU tracking mode found. Falling back on CPU constant mode.\n",
      "[codecarbon INFO @ 16:11:20] CPU Model on constant consumption mode: Apple M1 Pro\n",
      "[codecarbon INFO @ 16:11:20] >>> Tracker's metadata:\n",
      "[codecarbon INFO @ 16:11:20]   Platform system: macOS-10.16-x86_64-i386-64bit\n",
      "[codecarbon INFO @ 16:11:20]   Python version: 3.9.13\n",
      "[codecarbon INFO @ 16:11:20]   CodeCarbon version: 2.3.1\n",
      "[codecarbon INFO @ 16:11:20]   Available RAM : 16.000 GB\n",
      "[codecarbon INFO @ 16:11:20]   CPU count: 10\n",
      "[codecarbon INFO @ 16:11:20]   CPU model: Apple M1 Pro\n",
      "[codecarbon INFO @ 16:11:20]   GPU count: None\n",
      "[codecarbon INFO @ 16:11:20]   GPU model: None\n",
      "[codecarbon INFO @ 16:11:22] Energy consumed for RAM : 0.000001 kWh. RAM Power : 6.0 W\n",
      "[codecarbon INFO @ 16:11:22] Energy consumed for all CPUs : 0.000000 kWh. Total CPU Power : 5.0 W\n",
      "[codecarbon INFO @ 16:11:22] 0.000001 kWh of electricity used since the beginning.\n",
      "[codecarbon INFO @ 16:11:22] [setup] RAM Tracking...\n",
      "[codecarbon INFO @ 16:11:22] [setup] GPU Tracking...\n",
      "[codecarbon INFO @ 16:11:22] No GPU found.\n",
      "[codecarbon INFO @ 16:11:22] [setup] CPU Tracking...\n",
      "[codecarbon WARNING @ 16:11:22] No CPU tracking mode found. Falling back on CPU constant mode.\n",
      "[codecarbon INFO @ 16:11:23] CPU Model on constant consumption mode: Apple M1 Pro\n",
      "[codecarbon INFO @ 16:11:23] >>> Tracker's metadata:\n",
      "[codecarbon INFO @ 16:11:23]   Platform system: macOS-10.16-x86_64-i386-64bit\n",
      "[codecarbon INFO @ 16:11:23]   Python version: 3.9.13\n",
      "[codecarbon INFO @ 16:11:23]   CodeCarbon version: 2.3.1\n",
      "[codecarbon INFO @ 16:11:23]   Available RAM : 16.000 GB\n",
      "[codecarbon INFO @ 16:11:23]   CPU count: 10\n",
      "[codecarbon INFO @ 16:11:23]   CPU model: Apple M1 Pro\n",
      "[codecarbon INFO @ 16:11:23]   GPU count: None\n",
      "[codecarbon INFO @ 16:11:23]   GPU model: None\n",
      "[codecarbon INFO @ 16:11:23] Energy consumed for RAM : 0.000000 kWh. RAM Power : 6.0 W\n",
      "[codecarbon INFO @ 16:11:23] Energy consumed for all CPUs : 0.000000 kWh. Total CPU Power : 5.0 W\n",
      "[codecarbon INFO @ 16:11:23] 0.000000 kWh of electricity used since the beginning.\n"
     ]
    },
    {
     "name": "stdout",
     "output_type": "stream",
     "text": [
      "{'accuracy': 0.9559748427672956, 'precision': 1.0, 'recall': 0.6705882352941176, 'f1': 0.8028169014084507}\n",
      "              precision    recall  f1-score   support\n",
      "\n",
      "         ham       0.95      1.00      0.98       551\n",
      "        spam       1.00      0.67      0.80        85\n",
      "\n",
      "    accuracy                           0.96       636\n",
      "   macro avg       0.98      0.84      0.89       636\n",
      "weighted avg       0.96      0.96      0.95       636\n",
      "\n",
      "Experiment ID 0\n",
      "  Energy Consumption: 1.3402669979348183 Joules\n",
      "  Duration: 0.3143150806427002 seconds\n"
     ]
    },
    {
     "data": {
      "application/vnd.jupyter.widget-view+json": {
       "model_id": "992b1cec7a124db98c35ae9b1ba443cc",
       "version_major": 2,
       "version_minor": 0
      },
      "text/plain": [
       "Button(description='Run AI Model Training', style=ButtonStyle())"
      ]
     },
     "metadata": {},
     "output_type": "display_data"
    }
   ],
   "source": [
    "run_exp_btn = widgets.Button(description=\"Run AI Model Training\")\n",
    "run_exp_btn.on_click(run_experiment_exp(experiment_id, 'Random Forest', slide.value, featureset_percentage, preprocessed_data, raw_data))\n",
    "display(run_exp_btn)"
   ]
  },
  {
   "cell_type": "code",
   "execution_count": null,
   "id": "40856dd8",
   "metadata": {},
   "outputs": [],
   "source": []
  }
 ],
 "metadata": {
  "kernelspec": {
   "display_name": "Python 3 (ipykernel)",
   "language": "python",
   "name": "python3"
  },
  "language_info": {
   "codemirror_mode": {
    "name": "ipython",
    "version": 3
   },
   "file_extension": ".py",
   "mimetype": "text/x-python",
   "name": "python",
   "nbconvert_exporter": "python",
   "pygments_lexer": "ipython3",
   "version": "3.9.13"
  }
 },
 "nbformat": 4,
 "nbformat_minor": 5
}
