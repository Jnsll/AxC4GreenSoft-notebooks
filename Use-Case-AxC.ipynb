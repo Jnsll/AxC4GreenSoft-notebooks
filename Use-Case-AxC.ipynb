{
 "cells": [
  {
   "cell_type": "code",
   "execution_count": 1,
   "id": "614173d1-d49a-4ccf-b2e4-ccbe88a7a17c",
   "metadata": {
    "tags": []
   },
   "outputs": [],
   "source": [
    "from IPython.display import display\n",
    "from ipywidgets import interact, interactive, fixed, interact_manual\n",
    "import ipywidgets as widgets\n",
    "import subprocess"
   ]
  },
  {
   "cell_type": "code",
   "execution_count": 2,
   "id": "a3e6be80-306c-4fee-8c05-e5cccd501774",
   "metadata": {
    "tags": []
   },
   "outputs": [],
   "source": [
    "import math\n",
    "\n",
    "def give_cos(x):\n",
    "    return math.cos(x)"
   ]
  },
  {
   "cell_type": "code",
   "execution_count": 10,
   "id": "f74686b7-53db-4db1-a8db-3102c078d02d",
   "metadata": {
    "tags": []
   },
   "outputs": [],
   "source": [
    "import matplotlib.pyplot as plt\n",
    "\n",
    "def get_plot(values_cos):\n",
    "    xs = [x for x in range(len(values_cos))]\n",
    "    plt.figure(figsize=(10,6))\n",
    "    plt.plot(xs, values_cos)\n",
    "    plt.show()"
   ]
  },
  {
   "cell_type": "markdown",
   "id": "cb4e2a22-d536-4d57-b157-ef19fe781f5f",
   "metadata": {
    "tags": []
   },
   "source": [
    "# Approximate Computing Use Case"
   ]
  },
  {
   "cell_type": "markdown",
   "id": "a228f060-576a-4abd-9021-b6e4735a5afb",
   "metadata": {},
   "source": [
    "The goal is for you to experience how the level of approximation is impacting the task results.\n",
    "\n",
    "Here the use case deals with the task of computing values of the cosinus function and represent them.\n",
    "\n",
    "To modify the level of approximation applied on the task, please move the slider and choose the percentage of approximation you want to study."
   ]
  },
  {
   "cell_type": "code",
   "execution_count": 12,
   "id": "90aea594-2882-4d0d-981b-2c4cfdeee0bd",
   "metadata": {
    "tags": []
   },
   "outputs": [
    {
     "data": {
      "application/vnd.jupyter.widget-view+json": {
       "model_id": "55fb082b35894749a63a9c3a30abd934",
       "version_major": 2,
       "version_minor": 0
      },
      "text/plain": [
       "interactive(children=(IntSlider(value=1, description='Approximation %:', min=1), Output()), _dom_classes=('wid…"
      ]
     },
     "metadata": {},
     "output_type": "display_data"
    }
   ],
   "source": [
    "import time\n",
    "\n",
    "@interact(x=widgets.IntSlider(value=1, min=1, max=100, step=1, description='Approximation %:'))\n",
    "def sync_cos_task(x):\n",
    "    values_cos = []\n",
    "    for i in range(0,1000, x):\n",
    "        values_cos.append(give_cos(i))\n",
    "    start = time.time()    \n",
    "    subprocess.run([ \"python\", \"running_cos.py\", str(x)], \n",
    "                     capture_output=True)\n",
    "    end = time.time()\n",
    "    get_plot(values_cos)\n",
    "    print(\"Duration (s):\", str(end-start))\n",
    "    "
   ]
  },
  {
   "cell_type": "code",
   "execution_count": 18,
   "id": "e7209c7b",
   "metadata": {},
   "outputs": [
    {
     "data": {
      "application/vnd.jupyter.widget-view+json": {
       "model_id": "f8315d0dcfb54dde9fcff2dc6bd0e3bc",
       "version_major": 2,
       "version_minor": 0
      },
      "text/plain": [
       "interactive(children=(IntSlider(value=1, description='Approximation %:', min=1), Output()), _dom_classes=('wid…"
      ]
     },
     "metadata": {},
     "output_type": "display_data"
    }
   ],
   "source": [
    "@interact(x=widgets.IntSlider(value=1, min=1, max=100, step=1, description='Approximation %:'))\n",
    "def sync_cos_task(x):\n",
    "    values_cos = []\n",
    "    for i in range(0,1000, x):\n",
    "        values_cos.append(give_cos(i))\n",
    "    subprocess.run([\"EnergiBridge/target/release/energibridge\", \"--summary\", \"--output\", \"energy_metrics.csv\", \"python\", \"running_cos.py\", str(x)], \n",
    "                     capture_output=False)\n",
    "    get_plot(values_cos)\n",
    "    "
   ]
  },
  {
   "cell_type": "code",
   "execution_count": null,
   "id": "da9f30d5",
   "metadata": {},
   "outputs": [],
   "source": []
  }
 ],
 "metadata": {
  "kernelspec": {
   "display_name": "Python 3 (ipykernel)",
   "language": "python",
   "name": "python3"
  },
  "language_info": {
   "codemirror_mode": {
    "name": "ipython",
    "version": 3
   },
   "file_extension": ".py",
   "mimetype": "text/x-python",
   "name": "python",
   "nbconvert_exporter": "python",
   "pygments_lexer": "ipython3",
   "version": "3.9.13"
  }
 },
 "nbformat": 4,
 "nbformat_minor": 5
}
